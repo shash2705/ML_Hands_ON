{
 "cells": [
  {
   "cell_type": "code",
   "execution_count": 3,
   "id": "da3d4648",
   "metadata": {},
   "outputs": [
    {
     "ename": "ImportError",
     "evalue": "cannot import name 'levinson_durbin' from 'scipy.linalg' (/home/ailab/anaconda3/lib/python3.10/site-packages/scipy/linalg/__init__.py)",
     "output_type": "error",
     "traceback": [
      "\u001b[0;31m---------------------------------------------------------------------------\u001b[0m",
      "\u001b[0;31mImportError\u001b[0m                               Traceback (most recent call last)",
      "Cell \u001b[0;32mIn[3], line 4\u001b[0m\n\u001b[1;32m      2\u001b[0m \u001b[38;5;28;01mimport\u001b[39;00m \u001b[38;5;21;01mlibrosa\u001b[39;00m\n\u001b[1;32m      3\u001b[0m \u001b[38;5;28;01mfrom\u001b[39;00m \u001b[38;5;21;01mscipy\u001b[39;00m\u001b[38;5;21;01m.\u001b[39;00m\u001b[38;5;21;01msignal\u001b[39;00m \u001b[38;5;28;01mimport\u001b[39;00m lfilter\n\u001b[0;32m----> 4\u001b[0m \u001b[38;5;28;01mfrom\u001b[39;00m \u001b[38;5;21;01mscipy\u001b[39;00m\u001b[38;5;21;01m.\u001b[39;00m\u001b[38;5;21;01mlinalg\u001b[39;00m \u001b[38;5;28;01mimport\u001b[39;00m levinson_durbin\n",
      "\u001b[0;31mImportError\u001b[0m: cannot import name 'levinson_durbin' from 'scipy.linalg' (/home/ailab/anaconda3/lib/python3.10/site-packages/scipy/linalg/__init__.py)"
     ]
    }
   ],
   "source": [
    "\n",
    "import numpy as np\n",
    "import librosa\n",
    "from scipy.signal import lfilter\n",
    "from scipy.linalg import levinson_durbin\n",
    "\n"
   ]
  },
  {
   "cell_type": "code",
   "execution_count": 1,
   "id": "64962cc7",
   "metadata": {},
   "outputs": [
    {
     "ename": "ImportError",
     "evalue": "cannot import name 'levinson' from 'scipy.linalg' (/home/ailab/anaconda3/lib/python3.10/site-packages/scipy/linalg/__init__.py)",
     "output_type": "error",
     "traceback": [
      "\u001b[0;31m---------------------------------------------------------------------------\u001b[0m",
      "\u001b[0;31mImportError\u001b[0m                               Traceback (most recent call last)",
      "Cell \u001b[0;32mIn[1], line 4\u001b[0m\n\u001b[1;32m      2\u001b[0m \u001b[38;5;28;01mimport\u001b[39;00m \u001b[38;5;21;01mnumpy\u001b[39;00m \u001b[38;5;28;01mas\u001b[39;00m \u001b[38;5;21;01mnp\u001b[39;00m\n\u001b[1;32m      3\u001b[0m \u001b[38;5;28;01mfrom\u001b[39;00m \u001b[38;5;21;01mscipy\u001b[39;00m\u001b[38;5;21;01m.\u001b[39;00m\u001b[38;5;21;01msignal\u001b[39;00m \u001b[38;5;28;01mimport\u001b[39;00m lfilter\n\u001b[0;32m----> 4\u001b[0m \u001b[38;5;28;01mfrom\u001b[39;00m \u001b[38;5;21;01mscipy\u001b[39;00m\u001b[38;5;21;01m.\u001b[39;00m\u001b[38;5;21;01mlinalg\u001b[39;00m \u001b[38;5;28;01mimport\u001b[39;00m levinson\n",
      "\u001b[0;31mImportError\u001b[0m: cannot import name 'levinson' from 'scipy.linalg' (/home/ailab/anaconda3/lib/python3.10/site-packages/scipy/linalg/__init__.py)"
     ]
    }
   ],
   "source": [
    "\n",
    "# Function to compute LPC coefficients for a single frame\n",
    "def compute_lpc(frame, lpc_order):\n",
    "    # Compute autocorrelation coefficients\n",
    "    r = np.correlate(frame, frame, mode='full')\n",
    "    r = r[len(frame)-1:]\n",
    "    \n",
    "    # Levinson-Durbin recursion\n",
    "    lpc_coef, _, _ = levinson_durbin(r, lpc_order)\n",
    "    \n",
    "    return lpc_coef\n",
    "\n",
    "# Load the audio file\n",
    "audio_file = 'path/to/your/audio/file.wav'\n",
    "y, sr = librosa.load(audio_file, sr=None)\n",
    "\n",
    "# Frame parameters\n",
    "frame_size = int(0.03 * sr)  # 30 ms frame size\n",
    "hop_size = int(0.01 * sr)    # 10 ms hop size\n",
    "\n",
    "# Frame blocking and windowing\n",
    "frames = librosa.util.frame(y, frame_length=frame_size, hop_length=hop_size, axis=0)\n",
    "frames *= np.hamming(frame_size)[:, np.newaxis]\n",
    "\n",
    "# LPC Analysis\n",
    "lpc_order = 12  # Example LPC order\n",
    "lpc_coeffs = []\n",
    "for frame in frames.T:\n",
    "    lpc_coef = compute_lpc(frame, lpc_order)\n",
    "    lpc_coeffs.append(lpc_coef)\n",
    "\n",
    "lpc_coeffs = np.array(lpc_coeffs)\n",
    "\n",
    "# Feature extraction (you can choose which LPC coefficients to use)\n",
    "features = lpc_coeffs[:, 1:]  # Exclude the first coefficient (always 1)\n",
    "\n",
    "# Example: Print the first 5 frames' LPC coefficients\n",
    "print(\"LPC Coefficients:\")\n",
    "print(features[:5])\n",
    "\n"
   ]
  },
  {
   "cell_type": "code",
   "execution_count": 4,
   "id": "2c080c15",
   "metadata": {},
   "outputs": [
    {
     "name": "stdout",
     "output_type": "stream",
     "text": [
      "Requirement already satisfied: scipy in /home/ailab/anaconda3/lib/python3.10/site-packages (1.10.0)\n",
      "Collecting scipy\n",
      "  Downloading scipy-1.13.1-cp310-cp310-manylinux_2_17_x86_64.manylinux2014_x86_64.whl (38.6 MB)\n",
      "\u001b[2K     \u001b[90m━━━━━━━━━━━━━━━━━━━━━━━━━━━━━━━━━━━━━━━━\u001b[0m \u001b[32m38.6/38.6 MB\u001b[0m \u001b[31m2.6 MB/s\u001b[0m eta \u001b[36m0:00:00\u001b[0m00:01\u001b[0m00:01\u001b[0m\n",
      "\u001b[?25hRequirement already satisfied: numpy<2.3,>=1.22.4 in /home/ailab/anaconda3/lib/python3.10/site-packages (from scipy) (1.23.5)\n",
      "Installing collected packages: scipy\n",
      "  Attempting uninstall: scipy\n",
      "    Found existing installation: scipy 1.10.0\n",
      "    Uninstalling scipy-1.10.0:\n",
      "      Successfully uninstalled scipy-1.10.0\n",
      "\u001b[31mERROR: pip's dependency resolver does not currently take into account all the packages that are installed. This behaviour is the source of the following dependency conflicts.\n",
      "gensim 4.3.0 requires FuzzyTM>=0.4.0, which is not installed.\u001b[0m\u001b[31m\n",
      "\u001b[0mSuccessfully installed scipy-1.13.1\n",
      "Note: you may need to restart the kernel to use updated packages.\n"
     ]
    }
   ],
   "source": [
    "pip install --upgrade scipy\n"
   ]
  },
  {
   "cell_type": "code",
   "execution_count": 5,
   "id": "50cef047",
   "metadata": {},
   "outputs": [
    {
     "ename": "ImportError",
     "evalue": "cannot import name 'levinson_durbin' from 'scipy.linalg' (/home/ailab/anaconda3/lib/python3.10/site-packages/scipy/linalg/__init__.py)",
     "output_type": "error",
     "traceback": [
      "\u001b[0;31m---------------------------------------------------------------------------\u001b[0m",
      "\u001b[0;31mImportError\u001b[0m                               Traceback (most recent call last)",
      "Cell \u001b[0;32mIn[5], line 4\u001b[0m\n\u001b[1;32m      2\u001b[0m \u001b[38;5;28;01mimport\u001b[39;00m \u001b[38;5;21;01mlibrosa\u001b[39;00m\n\u001b[1;32m      3\u001b[0m \u001b[38;5;28;01mfrom\u001b[39;00m \u001b[38;5;21;01mscipy\u001b[39;00m\u001b[38;5;21;01m.\u001b[39;00m\u001b[38;5;21;01msignal\u001b[39;00m \u001b[38;5;28;01mimport\u001b[39;00m lfilter\n\u001b[0;32m----> 4\u001b[0m \u001b[38;5;28;01mfrom\u001b[39;00m \u001b[38;5;21;01mscipy\u001b[39;00m\u001b[38;5;21;01m.\u001b[39;00m\u001b[38;5;21;01mlinalg\u001b[39;00m \u001b[38;5;28;01mimport\u001b[39;00m levinson_durbin\n",
      "\u001b[0;31mImportError\u001b[0m: cannot import name 'levinson_durbin' from 'scipy.linalg' (/home/ailab/anaconda3/lib/python3.10/site-packages/scipy/linalg/__init__.py)"
     ]
    }
   ],
   "source": [
    "import numpy as np\n",
    "import librosa\n",
    "from scipy.signal import lfilter\n",
    "from scipy.linalg import levinson_durbin"
   ]
  },
  {
   "cell_type": "code",
   "execution_count": 6,
   "id": "ec5123fb",
   "metadata": {},
   "outputs": [],
   "source": [
    "import numpy as np\n",
    "import librosa"
   ]
  },
  {
   "cell_type": "code",
   "execution_count": 7,
   "id": "5e885568",
   "metadata": {},
   "outputs": [
    {
     "ename": "ValueError",
     "evalue": "output array is read-only",
     "output_type": "error",
     "traceback": [
      "\u001b[0;31m---------------------------------------------------------------------------\u001b[0m",
      "\u001b[0;31mValueError\u001b[0m                                Traceback (most recent call last)",
      "Cell \u001b[0;32mIn[7], line 30\u001b[0m\n\u001b[1;32m     28\u001b[0m \u001b[38;5;66;03m# Frame blocking and windowing\u001b[39;00m\n\u001b[1;32m     29\u001b[0m frames \u001b[38;5;241m=\u001b[39m librosa\u001b[38;5;241m.\u001b[39mutil\u001b[38;5;241m.\u001b[39mframe(y, frame_length\u001b[38;5;241m=\u001b[39mframe_size, hop_length\u001b[38;5;241m=\u001b[39mhop_size, axis\u001b[38;5;241m=\u001b[39m\u001b[38;5;241m0\u001b[39m)\n\u001b[0;32m---> 30\u001b[0m frames \u001b[38;5;241m*\u001b[39m\u001b[38;5;241m=\u001b[39m np\u001b[38;5;241m.\u001b[39mhamming(frame_size)[:, np\u001b[38;5;241m.\u001b[39mnewaxis]\n\u001b[1;32m     32\u001b[0m \u001b[38;5;66;03m# LPC Analysis\u001b[39;00m\n\u001b[1;32m     33\u001b[0m lpc_order \u001b[38;5;241m=\u001b[39m \u001b[38;5;241m12\u001b[39m  \u001b[38;5;66;03m# Example LPC order\u001b[39;00m\n",
      "\u001b[0;31mValueError\u001b[0m: output array is read-only"
     ]
    }
   ],
   "source": [
    "def levinson_durbin(r, order):\n",
    "    a = np.zeros(order + 1)\n",
    "    b = np.zeros(order + 1)\n",
    "    k = np.zeros(order)\n",
    "    \n",
    "    a[0] = 1.0\n",
    "    b[0] = 1.0\n",
    "    \n",
    "    for i in range(order):\n",
    "        alpha = -np.dot(a[:i+1], r[i::-1]) / np.dot(a[:i+1], r[:i+1])\n",
    "        a[i+1] = alpha\n",
    "        k[i] = alpha\n",
    "        for j in range((i+1)//2):\n",
    "            temp = a[j]\n",
    "            a[j] += alpha * np.conj(a[i-j])\n",
    "            a[i-j] += alpha * np.conj(temp)\n",
    "    \n",
    "    return a, k\n",
    "\n",
    "# Load the audio file\n",
    "audio_file = '/home/ailab/Downloads/file_example_MP3_700KB.mp3'\n",
    "y, sr = librosa.load(audio_file, sr=None)\n",
    "\n",
    "# Frame parameters\n",
    "frame_size = int(0.03 * sr)  # 30 ms frame size\n",
    "hop_size = int(0.01 * sr)    # 10 ms hop size\n",
    "\n",
    "# Frame blocking and windowing\n",
    "frames = librosa.util.frame(y, frame_length=frame_size, hop_length=hop_size, axis=0)\n",
    "frames *= np.hamming(frame_size)[:, np.newaxis]\n",
    "\n",
    "# LPC Analysis\n",
    "lpc_order = 12  # Example LPC order\n",
    "lpc_coeffs = []\n",
    "for frame in frames.T:\n",
    "    # Compute autocorrelation coefficients\n",
    "    r = np.correlate(frame, frame, mode='full')\n",
    "    r = r[len(frame)-1:]\n",
    "\n",
    "    # Custom Levinson-Durbin recursion\n",
    "    lpc_coef, _ = levinson_durbin(r, lpc_order)\n",
    "    lpc_coeffs.append(lpc_coef)\n",
    "\n",
    "lpc_coeffs = np.array(lpc_coeffs)\n",
    "\n",
    "# Feature extraction (you can choose which LPC coefficients to use)\n",
    "features = lpc_coeffs[:, 1:]  # Exclude the first coefficient (always 1)\n",
    "\n",
    "# Example: Print the first 5 frames' LPC coefficients\n",
    "print(\"LPC Coefficients:\")\n",
    "print(features[:5])"
   ]
  },
  {
   "cell_type": "code",
   "execution_count": 16,
   "id": "c62bfb77",
   "metadata": {},
   "outputs": [
    {
     "name": "stdout",
     "output_type": "stream",
     "text": [
      "LPC Coefficients:\n",
      "[[-8.47931157e+00  7.08857350e+01 -1.06362611e+01 -3.19403380e+02\n",
      "  -1.55785530e+02  3.49436907e+02 -2.28124666e+02  2.79962234e+02\n",
      "  -1.62580865e+01 -2.14931943e+01  6.94777182e+00 -4.37242141e-01]\n",
      " [-2.80900294e+00  6.76432675e+01 -2.60411985e+01 -9.38877730e+01\n",
      "  -6.70533910e+01  2.58962126e+02 -1.07711140e+02  1.64521319e+02\n",
      "  -2.51238152e+00 -1.20068618e+01  3.17701072e+00 -9.24940959e-02]\n",
      " [ 1.29841626e+00  1.07038857e+02 -7.33445112e+01 -8.70010748e+01\n",
      "  -1.35501658e+02  3.33883060e+02 -1.29235794e+02  2.30734895e+02\n",
      "  -1.20141129e+01 -1.47545827e+01  3.42777635e+00 -1.71205515e-01]\n",
      " [ 3.60080559e+01  5.35963727e+02 -5.96334946e+02 -4.66247322e+02\n",
      "  -8.63028819e+02  1.38980765e+03 -5.20700214e+02  1.18843862e+03\n",
      "  -1.46536473e+02 -6.74485903e+01  1.16701864e+01 -3.52564017e-01]\n",
      " [-1.54983088e+01 -1.26008845e+02  1.97922104e+02  1.26960558e+02\n",
      "   2.28149181e+02 -2.76459216e+02  7.52456201e+01 -2.97195244e+02\n",
      "   5.28776411e+01  1.57419037e+01  6.65627868e-02 -5.10661536e-01]]\n"
     ]
    }
   ],
   "source": [
    "import numpy as np\n",
    "import librosa\n",
    "\n",
    "# Custom implementation of the Levinson-Durbin recursion algorithm\n",
    "def levinson_durbin(r, order):\n",
    "    a = np.zeros(order + 1)\n",
    "    b = np.zeros(order + 1)\n",
    "    k = np.zeros(order)\n",
    "    \n",
    "    a[0] = 1.0\n",
    "    b[0] = 1.0\n",
    "    \n",
    "    for i in range(order):\n",
    "        alpha = -np.dot(a[:i+1], r[i::-1]) / np.dot(a[:i+1], r[:i+1])\n",
    "        a[i+1] = alpha\n",
    "        k[i] = alpha\n",
    "        for j in range((i+1)//2):\n",
    "            temp = a[j]\n",
    "            a[j] += alpha * np.conj(a[i-j])\n",
    "            a[i-j] += alpha * np.conj(temp)\n",
    "    \n",
    "    return a, k\n",
    "\n",
    "# Load the audio file\n",
    "audio_file = '/home/ailab/Downloads/file_example_MP3_700KB.wav'\n",
    "y, sr = librosa.load(audio_file, sr=None)\n",
    "\n",
    "# Frame parameters\n",
    "frame_size = int(0.03 * sr)  # 30 ms frame size\n",
    "hop_size = int(0.01 * sr)    # 10 ms hop size\n",
    "\n",
    "# Frame blocking and windowing\n",
    "frames = librosa.util.frame(y, frame_length=frame_size, hop_length=hop_size, axis=0)\n",
    "hamming_window = np.hamming(frame_size)\n",
    "\n",
    "# Ensure data type compatibility\n",
    "frames = frames.astype(np.float64)\n",
    "\n",
    "# Apply Hamming window to frames\n",
    "frames *= hamming_window[:, np.newaxis].T\n",
    "\n",
    "# LPC Analysis\n",
    "lpc_order = 12  # Example LPC order\n",
    "lpc_coeffs = []\n",
    "for frame in frames.T:\n",
    "    # Compute autocorrelation coefficients directly\n",
    "    r = np.correlate(frame, frame, mode='full')\n",
    "    r = r[len(frame)-1:]\n",
    "    \n",
    "    # Custom Levinson-Durbin recursion\n",
    "    lpc_coef, _ = levinson_durbin(r, lpc_order)\n",
    "    lpc_coeffs.append(lpc_coef.copy())  # Ensure array is writable by making a copy\n",
    "\n",
    "lpc_coeffs = np.array(lpc_coeffs)\n",
    "\n",
    "# Feature extraction (you can choose which LPC coefficients to use)\n",
    "features = lpc_coeffs[:, 1:]  # Exclude the first coefficient (always 1)\n",
    "\n",
    "# Example: Print the first 5 frames' LPC coefficients\n",
    "print(\"LPC Coefficients:\")\n",
    "print(features[:5])\n",
    "\n",
    "\n",
    "\n"
   ]
  },
  {
   "cell_type": "code",
   "execution_count": 23,
   "id": "9164cdfb",
   "metadata": {},
   "outputs": [
    {
     "name": "stdout",
     "output_type": "stream",
     "text": [
      "LPCC Coefficients:\n",
      "[[-5.93965217 -6.32672521 -6.03865788 -6.6184467  -6.7434629  -6.64062461\n",
      "  -6.64062461 -6.7434629  -6.6184467  -6.03865788 -6.32672521 -5.93965217]\n",
      " [-5.26537743 -5.64864369 -5.46529372 -5.97041217 -6.01691214 -6.30181218\n",
      "  -6.30181218 -6.01691214 -5.97041217 -5.46529372 -5.64864369 -5.26537743]\n",
      " [-5.54750843 -6.03347245 -5.68814875 -6.07937972 -6.16409005 -6.72393475\n",
      "  -6.72393475 -6.16409005 -6.07937972 -5.68814875 -6.03347245 -5.54750843]\n",
      " [-7.26375542 -7.80397165 -7.23112752 -7.46083914 -7.5476404  -8.336909\n",
      "  -8.336909   -7.5476404  -7.46083914 -7.23112752 -7.80397165 -7.26375542]\n",
      " [-6.04733357 -6.54457896 -5.77609979 -5.84997862 -5.79420161 -6.87412703\n",
      "  -6.87412703 -5.79420161 -5.84997862 -5.77609979 -6.54457896 -6.04733357]]\n"
     ]
    }
   ],
   "source": [
    "import numpy as np\n",
    "import librosa\n",
    "\n",
    "# Custom implementation of the Levinson-Durbin recursion algorithm for LPCC\n",
    "def levinson_durbin_lpcc(r, order):\n",
    "    a = np.zeros(order + 1)\n",
    "    b = np.zeros(order + 1)\n",
    "    k = np.zeros(order)\n",
    "    \n",
    "    a[0] = 1.0\n",
    "    b[0] = 1.0\n",
    "    \n",
    "    for i in range(order):\n",
    "        alpha = -np.dot(a[:i+1], r[i::-1]) / np.dot(a[:i+1], r[:i+1])\n",
    "        a[i+1] = alpha\n",
    "        k[i] = alpha\n",
    "        for j in range((i+1)//2):\n",
    "            temp = a[j]\n",
    "            a[j] += alpha * np.conj(a[i-j])\n",
    "            a[i-j] += alpha * np.conj(temp)\n",
    "    \n",
    "    # Compute LPCC coefficients\n",
    "    lpcc = -np.log(np.abs(np.fft.fft(a)[:order+1]))\n",
    "    \n",
    "    return lpcc\n",
    "\n",
    "# Load the audio file\n",
    "audio_file = '/home/ailab/Downloads/file_example_MP3_700KB.wav'\n",
    "y, sr = librosa.load(audio_file, sr=None)\n",
    "\n",
    "# Frame parameters\n",
    "frame_size = int(0.03 * sr)  # 30 ms frame size\n",
    "hop_size = int(0.01 * sr)    # 10 ms hop size\n",
    "\n",
    "# Frame blocking\n",
    "frames = librosa.util.frame(y, frame_length=frame_size, hop_length=hop_size, axis=0)\n",
    "\n",
    "# Apply Hamming window to frames using np.multiply\n",
    "hamming_window = np.hamming(frame_size)\n",
    "hamming_window_reshaped = hamming_window[:, np.newaxis]  # Reshape for broadcasting\n",
    "frames = frames * hamming_window_reshaped.T\n",
    "\n",
    "# LPCC Analysis\n",
    "lpcc_order = 12  # Example LPCC order\n",
    "lpcc_coeffs = []\n",
    "for frame in frames.T:\n",
    "    # Compute autocorrelation coefficients\n",
    "    r = np.correlate(frame, frame, mode='full')\n",
    "    r = r[len(frame)-1:]\n",
    "    \n",
    "    # Custom Levinson-Durbin recursion for LPCC\n",
    "    lpcc_coef = levinson_durbin_lpcc(r, lpcc_order)\n",
    "    lpcc_coeffs.append(lpcc_coef.copy())  # Ensure array is writable by making a copy\n",
    "\n",
    "lpcc_coeffs = np.array(lpcc_coeffs)\n",
    "\n",
    "# Feature extraction (you can choose which LPCC coefficients to use)\n",
    "features = lpcc_coeffs[:, 1:]  # Exclude the first coefficient (always 1)\n",
    "\n",
    "# Example: Print the first 5 frames' LPCC coefficients\n",
    "print(\"LPCC Coefficients:\")\n",
    "print(features[:5])\n",
    "\n",
    "\n",
    "\n"
   ]
  },
  {
   "cell_type": "code",
   "execution_count": 1,
   "id": "a5ce01e5",
   "metadata": {},
   "outputs": [],
   "source": [
    "import librosa\n",
    "import librosa.display\n",
    "import IPython.display as ipd\n",
    "import os\n",
    "import numpy as np\n"
   ]
  },
  {
   "cell_type": "code",
   "execution_count": 2,
   "id": "95cfefc4",
   "metadata": {},
   "outputs": [],
   "source": [
    "import librosa"
   ]
  },
  {
   "cell_type": "code",
   "execution_count": 4,
   "id": "32a863ca",
   "metadata": {},
   "outputs": [],
   "source": [
    "audio,sr = librosa.load(\"/home/ailab/Downloads/file_example_MP3_700KB.wav\")"
   ]
  },
  {
   "cell_type": "code",
   "execution_count": 5,
   "id": "b551bec4",
   "metadata": {},
   "outputs": [
    {
     "data": {
      "text/plain": [
       "22050"
      ]
     },
     "execution_count": 5,
     "metadata": {},
     "output_type": "execute_result"
    }
   ],
   "source": [
    "sr"
   ]
  },
  {
   "cell_type": "code",
   "execution_count": 6,
   "id": "7891dc27",
   "metadata": {},
   "outputs": [],
   "source": [
    "import numpy as np\n",
    "def feature_extraction(file_path):\n",
    "    # load the audio file\n",
    "    x, sample_rate = librosa.load(file_path)\n",
    "    # extract features from the audio\n",
    "    mfcc = librosa.feature.mfcc(y=x, sr=sample_rate, n_mfcc=50)\n",
    "    \n",
    "    return mfcc"
   ]
  },
  {
   "cell_type": "code",
   "execution_count": 8,
   "id": "077ce6b3",
   "metadata": {},
   "outputs": [
    {
     "name": "stdout",
     "output_type": "stream",
     "text": [
      "[[-4.8168088e+02 -4.5924454e+02 -5.0884183e+02 ... -5.8409399e+02\n",
      "  -5.9272345e+02 -6.0102667e+02]\n",
      " [ 1.5445340e+02  1.7366180e+02  1.3161893e+02 ...  4.0158585e+01\n",
      "   2.8546543e+01  1.6981178e+01]\n",
      " [ 8.8023407e+01  8.8106987e+01  9.3403580e+01 ...  3.7625069e+01\n",
      "   2.7614100e+01  1.6568253e+01]\n",
      " ...\n",
      " [ 2.0005348e-01  7.4426597e-01  1.6369913e+00 ... -9.6153831e-01\n",
      "  -5.6793308e-01 -1.5717874e+00]\n",
      " [ 4.0173006e-01  1.2138340e+00  2.7065539e+00 ... -9.6681142e-01\n",
      "  -5.1631987e-01 -1.3980287e+00]\n",
      " [ 5.3407562e-01  1.6979836e+00  3.5089302e+00 ... -9.6245390e-01\n",
      "  -4.7597343e-01 -1.1812155e+00]]\n"
     ]
    }
   ],
   "source": [
    "mfcc = feature_extraction(\"/home/ailab/Downloads/file_example_MP3_700KB.wav\")\n",
    "print(mfcc)"
   ]
  },
  {
   "cell_type": "code",
   "execution_count": 10,
   "id": "1183584c",
   "metadata": {},
   "outputs": [
    {
     "data": {
      "image/png": "[encoded data removed]",
      "text/plain": [
       "<Figure size 1000x500 with 2 Axes>"
      ]
     },
     "metadata": {},
     "output_type": "display_data"
    }
   ],
   "source": [
    "import matplotlib.pyplot as plt\n",
    "plt.figure(figsize=(10,5))\n",
    "librosa.display.specshow(mfcc,x_axis='time',cmap='viridis')\n",
    "plt.colorbar(format='%+2.0f dB')\n",
    "plt.title('MFCC')\n",
    "plt.xlabel('Time')\n",
    "plt.ylabel('MFCC Coefficients')\n",
    "plt.show()"
   ]
  },
  {
   "cell_type": "code",
   "execution_count": null,
   "id": "faa5a8d8",
   "metadata": {},
   "outputs": [],
   "source": []
  }
 ],
 "metadata": {
  "kernelspec": {
   "display_name": "Python 3 (ipykernel)",
   "language": "python",
   "name": "python3"
  },
  "language_info": {
   "codemirror_mode": {
    "name": "ipython",
    "version": 3
   },
   "file_extension": ".py",
   "mimetype": "text/x-python",
   "name": "python",
   "nbconvert_exporter": "python",
   "pygments_lexer": "ipython3",
   "version": "3.10.9"
  }
 },
 "nbformat": 4,
 "nbformat_minor": 5
}
